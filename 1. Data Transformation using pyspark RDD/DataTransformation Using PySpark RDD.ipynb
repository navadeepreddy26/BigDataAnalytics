{
 "cells": [
  {
   "cell_type": "code",
   "execution_count": 7,
   "id": "6cb950e4-894e-4e15-b1d0-abe77a645ee2",
   "metadata": {},
   "outputs": [
    {
     "data": {
      "text/html": [
       "\n",
       "        <div>\n",
       "            <p><b>SparkContext</b></p>\n",
       "\n",
       "            <p><a href=\"http://DESKTOP-S2GNLP2:4040\">Spark UI</a></p>\n",
       "\n",
       "            <dl>\n",
       "              <dt>Version</dt>\n",
       "                <dd><code>v4.0.1</code></dd>\n",
       "              <dt>Master</dt>\n",
       "                <dd><code>local[*]</code></dd>\n",
       "              <dt>AppName</dt>\n",
       "                <dd><code>PySparkShell</code></dd>\n",
       "            </dl>\n",
       "        </div>\n",
       "        "
      ],
      "text/plain": [
       "<SparkContext master=local[*] appName=PySparkShell>"
      ]
     },
     "execution_count": 7,
     "metadata": {},
     "output_type": "execute_result"
    }
   ],
   "source": [
    "sc"
   ]
  },
  {
   "cell_type": "code",
   "execution_count": 8,
   "id": "1d6c61a9-86c1-4412-83c4-b6c17776c2e7",
   "metadata": {},
   "outputs": [],
   "source": [
    "import random"
   ]
  },
  {
   "cell_type": "code",
   "execution_count": 9,
   "id": "e18e2349-5bf4-482c-9c76-17dd35133de4",
   "metadata": {},
   "outputs": [
    {
     "name": "stdout",
     "output_type": "stream",
     "text": [
      "Original List:\n",
      "[826, 450, 259, 761, 561, 125, 222, 994, 454, 848, 996, 85, 736, 737, 451, 215, 991, 256, 683, 869, 456, 805, 294, 872, 574, 559, 230, 507, 390, 519, 376, 104, 332, 664, 416, 432, 588, 650, 689, 856, 791, 98, 760, 473, 812, 504, 714, 637, 31, 232, 253, 351, 31, 233, 793, 202, 774, 255, 390, 552, 973, 98, 91, 349, 815, 734, 947, 518, 728, 897, 423, 60, 184, 813, 175, 134, 98, 781, 343, 706, 739, 8, 432, 795, 278, 604, 916, 822, 656, 576, 437, 803, 942, 698, 923, 903, 712, 227, 548, 693]\n"
     ]
    }
   ],
   "source": [
    "random_numbers = [random.randint(1, 1000) for _ in range(100)]\n",
    "\n",
    "print(\"Original List:\")\n",
    "print(random_numbers)"
   ]
  },
  {
   "cell_type": "code",
   "execution_count": 13,
   "id": "55c515bb-aed6-4245-ab5c-b5deebc7d392",
   "metadata": {},
   "outputs": [],
   "source": [
    " numbers_rdd = sc.parallelize(random_numbers)"
   ]
  },
  {
   "cell_type": "code",
   "execution_count": 14,
   "id": "d5248c01-266a-4bbc-9f0d-4dd031e2d943",
   "metadata": {},
   "outputs": [],
   "source": [
    " even_numbers_rdd = numbers_rdd.filter(lambda x: x % 2 == 0)"
   ]
  },
  {
   "cell_type": "code",
   "execution_count": 15,
   "id": "a888909e-7d7c-4370-b9f2-d55551c9c012",
   "metadata": {},
   "outputs": [
    {
     "name": "stdout",
     "output_type": "stream",
     "text": [
      "\n",
      "Even Numbers:\n",
      "[826, 450, 222, 994, 454, 848, 996, 736, 256, 456, 294, 872, 574, 230, 390, 376, 104, 332, 664, 416, 432, 588, 650, 856, 98, 760, 812, 504, 714, 232, 202, 774, 390, 552, 98, 734, 518, 728, 60, 184, 134, 98, 706, 8, 432, 278, 604, 916, 822, 656, 576, 942, 698, 712, 548]\n"
     ]
    }
   ],
   "source": [
    "even_numbers = even_numbers_rdd.collect()\n",
    "\n",
    "print(\"\\nEven Numbers:\")\n",
    "print(even_numbers)"
   ]
  },
  {
   "cell_type": "code",
   "execution_count": null,
   "id": "d2a34866-b83e-4fde-8097-99c4eb7e53e1",
   "metadata": {},
   "outputs": [],
   "source": []
  }
 ],
 "metadata": {
  "kernelspec": {
   "display_name": "Python 3 (ipykernel)",
   "language": "python",
   "name": "python3"
  },
  "language_info": {
   "codemirror_mode": {
    "name": "ipython",
    "version": 3
   },
   "file_extension": ".py",
   "mimetype": "text/x-python",
   "name": "python",
   "nbconvert_exporter": "python",
   "pygments_lexer": "ipython3",
   "version": "3.11.9"
  }
 },
 "nbformat": 4,
 "nbformat_minor": 5
}
