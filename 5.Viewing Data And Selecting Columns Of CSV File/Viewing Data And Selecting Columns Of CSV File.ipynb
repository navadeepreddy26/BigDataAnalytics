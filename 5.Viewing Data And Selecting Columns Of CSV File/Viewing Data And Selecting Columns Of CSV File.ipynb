{
 "cells": [
  {
   "cell_type": "code",
   "execution_count": 2,
   "id": "b43a5469-70fc-4759-a63b-a3b638e95022",
   "metadata": {},
   "outputs": [
    {
     "data": {
      "text/html": [
       "\n",
       "        <div>\n",
       "            <p><b>SparkContext</b></p>\n",
       "\n",
       "            <p><a href=\"http://DESKTOP-S2GNLP2.mshome.net:4043\">Spark UI</a></p>\n",
       "\n",
       "            <dl>\n",
       "              <dt>Version</dt>\n",
       "                <dd><code>v4.0.1</code></dd>\n",
       "              <dt>Master</dt>\n",
       "                <dd><code>local[*]</code></dd>\n",
       "              <dt>AppName</dt>\n",
       "                <dd><code>PySparkShell</code></dd>\n",
       "            </dl>\n",
       "        </div>\n",
       "        "
      ],
      "text/plain": [
       "<SparkContext master=local[*] appName=PySparkShell>"
      ]
     },
     "execution_count": 2,
     "metadata": {},
     "output_type": "execute_result"
    }
   ],
   "source": [
    "sc"
   ]
  },
  {
   "cell_type": "code",
   "execution_count": 3,
   "id": "dfdeeb40-1c94-4568-bfcd-bdc5ccfb1fbb",
   "metadata": {},
   "outputs": [],
   "source": [
    "from pyspark.sql import SparkSession\n",
    "# Step 1: Initialize Spark Session\n",
    "spark = SparkSession.builder.appName(\"BasicDataFrameOps\").getOrCreate()"
   ]
  },
  {
   "cell_type": "code",
   "execution_count": 4,
   "id": "19265b20-e45b-41e6-882e-ec5f6d4b621f",
   "metadata": {},
   "outputs": [],
   "source": [
    "# Step 2: Read CSV file into DataFrame\n",
    "df = spark.read.csv(\"students.csv\", header=True, inferSchema=True)"
   ]
  },
  {
   "cell_type": "code",
   "execution_count": 5,
   "id": "9b80e920-190a-4001-bd67-b2c85e5c8946",
   "metadata": {},
   "outputs": [
    {
     "name": "stdout",
     "output_type": "stream",
     "text": [
      "=== First 5 rows ===\n",
      "+---+-------+---+------+----+-------+-------+\n",
      "| id|   name|age|gender|math|science|english|\n",
      "+---+-------+---+------+----+-------+-------+\n",
      "|  1|  Alice| 20|     F|  66|     92|     44|\n",
      "|  2|    Bob| 20|     M|  82|     52|     77|\n",
      "|  3|Charlie| 22|     F|  43|     57|     76|\n",
      "|  4|  David| 19|     M|  95|     69|     46|\n",
      "|  5|    Eva| 19|     F|  62|     44|     96|\n",
      "+---+-------+---+------+----+-------+-------+\n",
      "only showing top 5 rows\n"
     ]
    }
   ],
   "source": [
    "# === Basic Operations ===\n",
    "# 1. View first 5 rows\n",
    "print(\"=== First 5 rows ===\")\n",
    "df.show(5)"
   ]
  },
  {
   "cell_type": "code",
   "execution_count": 6,
   "id": "4cc2e600-a6ab-4f19-9e90-ff2fc98a3563",
   "metadata": {},
   "outputs": [
    {
     "name": "stdout",
     "output_type": "stream",
     "text": [
      "=== Schema ===\n",
      "root\n",
      " |-- id: integer (nullable = true)\n",
      " |-- name: string (nullable = true)\n",
      " |-- age: integer (nullable = true)\n",
      " |-- gender: string (nullable = true)\n",
      " |-- math: integer (nullable = true)\n",
      " |-- science: integer (nullable = true)\n",
      " |-- english: integer (nullable = true)\n",
      "\n"
     ]
    }
   ],
   "source": [
    "# 2. Print schema (structure of DataFrame)\n",
    "print(\"=== Schema ===\")\n",
    "df.printSchema()"
   ]
  },
  {
   "cell_type": "code",
   "execution_count": 7,
   "id": "55ddeb7a-5d63-4399-b16c-13bfbc26ea89",
   "metadata": {},
   "outputs": [
    {
     "name": "stdout",
     "output_type": "stream",
     "text": [
      "=== Select name and math columns ===\n",
      "+-------+----+\n",
      "|   name|math|\n",
      "+-------+----+\n",
      "|  Alice|  66|\n",
      "|    Bob|  82|\n",
      "|Charlie|  43|\n",
      "|  David|  95|\n",
      "|    Eva|  62|\n",
      "+-------+----+\n",
      "only showing top 5 rows\n"
     ]
    }
   ],
   "source": [
    "# 3. Select specific columns: name and math\n",
    "print(\"=== Select name and math columns ===\")\n",
    "df.select(\"name\", \"math\").show(5)"
   ]
  },
  {
   "cell_type": "code",
   "execution_count": 8,
   "id": "cd3407d6-97ba-4ca3-9c1a-fe983d1169d6",
   "metadata": {},
   "outputs": [
    {
     "name": "stdout",
     "output_type": "stream",
     "text": [
      "=== Students with math >= 80 ===\n",
      "+---+------+---+------+----+-------+-------+\n",
      "| id|  name|age|gender|math|science|english|\n",
      "+---+------+---+------+----+-------+-------+\n",
      "|  2|   Bob| 20|     M|  82|     52|     77|\n",
      "|  4| David| 19|     M|  95|     69|     46|\n",
      "| 11| Kathy| 25|     M|  85|     71|     89|\n",
      "| 12|   Leo| 24|     M|  97|     84|     83|\n",
      "| 15|Olivia| 18|     M|  87|     90|     87|\n",
      "+---+------+---+------+----+-------+-------+\n",
      "only showing top 5 rows\n"
     ]
    }
   ],
   "source": [
    "# 4. Filter students with math >= 80\n",
    "print(\"=== Students with math >= 80 ===\")\n",
    "df.filter(df.math >= 80).show(5)"
   ]
  },
  {
   "cell_type": "code",
   "execution_count": 9,
   "id": "27a59b94-dfc0-43b2-b9a6-e5ee8e2fef28",
   "metadata": {},
   "outputs": [
    {
     "name": "stdout",
     "output_type": "stream",
     "text": [
      "=== Sorted by science (desc) ===\n",
      "+---+------+---+------+----+-------+-------+\n",
      "| id|  name|age|gender|math|science|english|\n",
      "+---+------+---+------+----+-------+-------+\n",
      "| 27| Aaron| 25|     F|  81|     99|     44|\n",
      "| 32| Fiona| 22|     F|  48|     96|     48|\n",
      "| 33|George| 22|     M|  66|     95|     84|\n",
      "| 29|  Carl| 22|     F|  53|     92|     52|\n",
      "|  1| Alice| 20|     F|  66|     92|     44|\n",
      "+---+------+---+------+----+-------+-------+\n",
      "only showing top 5 rows\n"
     ]
    }
   ],
   "source": [
    "# 5. Sort students by science marks (descending)\n",
    "print(\"=== Sorted by science (desc) ===\")\n",
    "df.orderBy(df.science.desc()).show(5)"
   ]
  },
  {
   "cell_type": "code",
   "execution_count": 10,
   "id": "152584b0-27c9-40e5-8cb5-4b258982570d",
   "metadata": {},
   "outputs": [
    {
     "name": "stdout",
     "output_type": "stream",
     "text": [
      "Total rows in dataset: 50\n"
     ]
    }
   ],
   "source": [
    "# 6. Count total rows\n",
    "print(\"Total rows in dataset:\", df.count())"
   ]
  },
  {
   "cell_type": "code",
   "execution_count": 11,
   "id": "82cc919b-5c1e-40c9-b218-16b35a18f61e",
   "metadata": {},
   "outputs": [
    {
     "name": "stdout",
     "output_type": "stream",
     "text": [
      "Columns: ['id', 'name', 'age', 'gender', 'math', 'science', 'english']\n"
     ]
    }
   ],
   "source": [
    " # 7. Show column names\n",
    "print(\"Columns:\", df.columns)"
   ]
  },
  {
   "cell_type": "code",
   "execution_count": null,
   "id": "c4a99098-d70e-4dfd-b160-8cdc6d83e10c",
   "metadata": {},
   "outputs": [],
   "source": []
  }
 ],
 "metadata": {
  "kernelspec": {
   "display_name": "Python 3 (ipykernel)",
   "language": "python",
   "name": "python3"
  },
  "language_info": {
   "codemirror_mode": {
    "name": "ipython",
    "version": 3
   },
   "file_extension": ".py",
   "mimetype": "text/x-python",
   "name": "python",
   "nbconvert_exporter": "python",
   "pygments_lexer": "ipython3",
   "version": "3.11.9"
  }
 },
 "nbformat": 4,
 "nbformat_minor": 5
}
